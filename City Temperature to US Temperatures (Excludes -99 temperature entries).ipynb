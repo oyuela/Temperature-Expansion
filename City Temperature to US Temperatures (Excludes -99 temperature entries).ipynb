{
 "cells": [
  {
   "cell_type": "markdown",
   "id": "7d32554c",
   "metadata": {},
   "source": [
    "Firstly, we decided we wanted to narrow our focus down to the United States. In order to do that, we created a new data set where we copied only the lines that included information on the United States."
   ]
  },
  {
   "cell_type": "code",
   "execution_count": 26,
   "id": "9cb83d94",
   "metadata": {
    "scrolled": true
   },
   "outputs": [
    {
     "data": {
      "text/plain": [
       "Index(['Region', 'Country', 'State', 'City', 'Month', 'Day', 'Year',\n",
       "       'AvgTemperature'],\n",
       "      dtype='object')"
      ]
     },
     "execution_count": 26,
     "metadata": {},
     "output_type": "execute_result"
    }
   ],
   "source": [
    "import pandas as pd\n",
    "\n",
    "# Specify the file path to the CSV file\n",
    "file_path = \"C:\\\\Users\\\\Bryan\\\\Downloads\\\\city_temperature.csv\"\n",
    "\n",
    "# Read the CSV file into a DataFrame\n",
    "df = pd.read_csv(file_path, dtype={\n",
    "    '1': str,\n",
    "    '2': str,\n",
    "    '3': str,\n",
    "    '4': str,\n",
    "}, low_memory=False)\n",
    "df.columns\n"
   ]
  },
  {
   "cell_type": "markdown",
   "id": "54346aed",
   "metadata": {},
   "source": [
    "The following code was used to create the final dataset we wanted to use. It takes the huge dataset of daily temperatures and narrows the data down to the cities we wanted. It also included a line that checks for empty data values that are marked by 0's or -99's."
   ]
  },
  {
   "cell_type": "code",
   "execution_count": 29,
   "id": "f3e05746",
   "metadata": {},
   "outputs": [],
   "source": [
    "import pandas as pd\n",
    "\n",
    "# Specify the file path to the CSV file\n",
    "file_path = \"C:\\\\Users\\\\Bryan\\\\Downloads\\\\city_temperature.csv\"\n",
    "\n",
    "# Read the CSV file into a DataFrame\n",
    "df = pd.read_csv(file_path, dtype={'1': str, '2': str, '3': str, '4': str, '5': int, '6': int, '7': int, '8': float}, \n",
    "                 low_memory=False)\n",
    "\n",
    "# Filter data for specific cities\n",
    "filtered_df = df[(df['City'].isin(['Grand Junction', 'Pueblo', 'Salt Lake City', 'San Angelo', 'Denver', 'Zagreb', 'Milan', \n",
    "                                   'Belgrade', 'Madrid', 'Bishkek']))]\n",
    "#Data cleaning for null values\n",
    "filtered_df_1 = filtered_df[((filtered_df['Day'] != 0) & (filtered_df['AvgTemperature'] != -99))]\n",
    "\n",
    "# Specify the file path for the new file\n",
    "new_file_path = \"C:\\\\Users\\\\Bryan\\\\Downloads\\\\glob_city_temperatures.csv\"\n",
    "\n",
    "# Save the filtered data to a new CSV file\n",
    "filtered_df_1.to_csv(new_file_path, index=False)"
   ]
  }
 ],
 "metadata": {
  "kernelspec": {
   "display_name": "Python 3 (ipykernel)",
   "language": "python",
   "name": "python3"
  },
  "language_info": {
   "codemirror_mode": {
    "name": "ipython",
    "version": 3
   },
   "file_extension": ".py",
   "mimetype": "text/x-python",
   "name": "python",
   "nbconvert_exporter": "python",
   "pygments_lexer": "ipython3",
   "version": "3.10.9"
  }
 },
 "nbformat": 4,
 "nbformat_minor": 5
}
