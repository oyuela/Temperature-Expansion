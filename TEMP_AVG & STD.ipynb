{
 "cells": [
  {
   "cell_type": "markdown",
   "id": "898f6c68",
   "metadata": {},
   "source": [
    "The following code intends to create a CSV file with data that includes both the monthly average temperatures and the standard deviations of each month."
   ]
  },
  {
   "cell_type": "code",
   "execution_count": 4,
   "id": "0f14cecd",
   "metadata": {},
   "outputs": [],
   "source": [
    "import numpy as np\n",
    "import pandas as pd\n",
    "\n",
    "# Read the CSV file into a DataFrame\n",
    "df = pd.read_csv(r'C:\\\\Users\\\\Bryan\\\\Downloads\\\\glob_city_temperatures.csv') \n",
    "\n",
    "# Define data types for columns\n",
    "data_types = {'City': str, 'Month': int, 'Day': int, 'Year': int, 'AvgTemperature': float}\n",
    "\n",
    "# Drop unnecessary columns\n",
    "df = df.drop(['State', 'Region', 'Country'], axis=1)\n",
    "\n",
    "# Filter the DataFrame for the year 2019\n",
    "filtered_df = df[(df['Year'] == 2019)]\n",
    "\n",
    "# Calculate the monthly averages of temperatures for each city\n",
    "monthly_averages = filtered_df.groupby(['Month','City'])['AvgTemperature'].mean().reset_index()\n",
    "\n",
    "# Calculate the monthly standard deviations of temperatures for each city\n",
    "monthly_std = filtered_df.groupby(['Month','City'])['AvgTemperature'].std().reset_index()\n",
    "\n",
    "# Merge the average and standard deviation DataFrames\n",
    "combined_df = monthly_averages.merge(monthly_std, on=['Month', 'City'], suffixes=('_avg', '_std'))\n",
    "\n",
    "# Save the combined DataFrame to a CSV file\n",
    "combined_df.to_csv('monthly_averages&std.csv', index=False)"
   ]
  },
  {
   "cell_type": "markdown",
   "id": "dae273ca",
   "metadata": {},
   "source": [
    "The following code intends to return the standard deviations in August in ascending order."
   ]
  },
  {
   "cell_type": "code",
   "execution_count": 15,
   "id": "1346e182",
   "metadata": {},
   "outputs": [
    {
     "data": {
      "text/plain": [
       "Month  City          \n",
       "8      Grand Junction    2.844935\n",
       "       Milan             2.870405\n",
       "       Pueblo            3.032243\n",
       "       San Angelo        3.284506\n",
       "       Denver            3.777597\n",
       "       Madrid            4.214532\n",
       "       Zagreb            4.410776\n",
       "       Salt Lake City    4.752745\n",
       "       Belgrade          5.335438\n",
       "       Bishkek           6.443158\n",
       "Name: AvgTemperature, dtype: float64"
      ]
     },
     "execution_count": 15,
     "metadata": {},
     "output_type": "execute_result"
    }
   ],
   "source": [
    "import numpy as np\n",
    "import pandas as pd\n",
    "\n",
    "# Read the CSV file into a DataFrame\n",
    "df = pd.read_csv(r'C:\\\\Users\\\\Bryan\\\\Downloads\\\\glob_city_temperatures.csv')\n",
    "\n",
    "# Define data types for columns\n",
    "data_types = {'City': str, 'Month': int, 'Day': int, 'Year': int, 'AvgTemperature': float}\n",
    "\n",
    "# Drop unnecessary columns\n",
    "df = df.drop(['State', 'Region', 'Country'], axis=1)\n",
    "\n",
    "# Filter the DataFrame for the year 2019 and August\n",
    "filtered_df = df[(df['Year'] == 2019) & (df['Month'].isin([8]))]\n",
    "\n",
    "# Calculate the monthly averages of temperatures for each city\n",
    "monthly_averages = filtered_df.groupby(['Month', 'City'])['AvgTemperature'].mean()\n",
    "\n",
    "# Calculate the monthly standard deviations of temperatures for each city\n",
    "monthly_std = filtered_df.groupby(['Month', 'City'])['AvgTemperature'].std()\n",
    "\n",
    "# Sort the standard deviations in ascending order\n",
    "sorted_std_df = monthly_std.sort_values(ascending=True)\n",
    "\n",
    "# Print the sorted DataFrame\n",
    "sorted_std_df"
   ]
  }
 ],
 "metadata": {
  "kernelspec": {
   "display_name": "Python 3 (ipykernel)",
   "language": "python",
   "name": "python3"
  },
  "language_info": {
   "codemirror_mode": {
    "name": "ipython",
    "version": 3
   },
   "file_extension": ".py",
   "mimetype": "text/x-python",
   "name": "python",
   "nbconvert_exporter": "python",
   "pygments_lexer": "ipython3",
   "version": "3.10.9"
  }
 },
 "nbformat": 4,
 "nbformat_minor": 5
}
